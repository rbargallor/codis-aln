{
  "nbformat": 4,
  "nbformat_minor": 0,
  "metadata": {
    "colab": {
      "provenance": [],
      "collapsed_sections": [
        "o_9Qh3P6-rHA"
      ]
    },
    "kernelspec": {
      "name": "python3",
      "display_name": "Python 3"
    },
    "language_info": {
      "name": "python"
    }
  },
  "cells": [
    {
      "cell_type": "markdown",
      "source": [
        "# 1. Tips Piton + Errors"
      ],
      "metadata": {
        "id": "u6FW0s_exvYa"
      }
    },
    {
      "cell_type": "markdown",
      "source": [
        "SUPER IMPORTANT: MOTIU TÍPIC DE RESULTAT INCORRECTE:\n",
        " - ES TREBALLA AMB ENTERS EN COMPTES DE FLOATS (posar x. en comptes de x al primer valor i s'arregla)\n",
        " - ES MODIFIQUEN VARIABLES PASSADES COM A PARÀMETRE DE LA FUNCIÓ (recomanable passar \"AA\" i fer \"A = AA.copy()\" al principi de la funció, per exemple). Això també pot passar dintre la funció (agafar u=A[:,0] i modificar u també modifica A)\n"
      ],
      "metadata": {
        "id": "IxCxpdMYSNeZ"
      }
    },
    {
      "cell_type": "code",
      "source": [
        "import numpy as np\n",
        "import scipy\n",
        "np.set_printoptions(precision=15, suppress=False)\n",
        "A = np.array([[1,2],[-1,0]], dtype=np.float64) #o posar 1. al primer elem.\n",
        "\n",
        "#per fer check:\n",
        "np.linalg.norm(A)\n",
        "np.linalg.det(A)\n",
        "np.linalg.inv(A)\n",
        "P, L, U = scipy.linalg.lu(A)\n",
        "b = np.array([1,1]) # b random perque no doni compile error\n",
        "x = np.linalg.solve(A, b)\n",
        "vaps = np.linalg.eigvals(A) #.eig dona vaps + veps\n",
        "\n",
        "idx = np.argsort(-np.abs(vaps)) # per ordenar array decreixentment (treure el - per creixent)\n",
        "vaps = vaps[idx]"
      ],
      "metadata": {
        "id": "4xqVh-dLx_Xs"
      },
      "execution_count": null,
      "outputs": []
    },
    {
      "cell_type": "markdown",
      "source": [
        "## Integrals i derivades"
      ],
      "metadata": {
        "id": "V8OkQFOAySOy"
      }
    },
    {
      "cell_type": "code",
      "source": [
        "from sympy import symbols, sin, cos, diff, integrate, pi, latex\n",
        "\n",
        "# Creem la variable simbòlica x:\n",
        "x = symbols('x')\n",
        "\n",
        "# Funció:\n",
        "f = sin(pi*x)*cos(pi*x)\n",
        "\n",
        "# Calculem la derivada:\n",
        "derivada = diff(f,x) # Podem calcular la derivada n-èssima mitjançant diff(f,x,n)\n",
        "\n",
        "# Calculem la integral:\n",
        "integral = integrate(f, x) # Podem calcular la integral entre a i b fent integrate(f,(x,a,b))\n",
        "\n",
        "# Imprimim per pantalla el resultat:\n",
        "print(f\"La derivada de f(x) = {f} és {derivada}\")\n",
        "print(f\"La integral de f(x) = {f} és {integral}\")"
      ],
      "metadata": {
        "id": "TnNTmcjVyUJI",
        "colab": {
          "base_uri": "https://localhost:8080/"
        },
        "outputId": "70c62f3d-158e-4875-efc9-fdd25b759fba"
      },
      "execution_count": null,
      "outputs": [
        {
          "output_type": "stream",
          "name": "stdout",
          "text": [
            "La derivada de f(x) = sin(pi*x)*cos(pi*x) és -pi*sin(pi*x)**2 + pi*cos(pi*x)**2\n",
            "La integral de f(x) = sin(pi*x)*cos(pi*x) és sin(pi*x)**2/(2*pi)\n"
          ]
        }
      ]
    },
    {
      "cell_type": "markdown",
      "source": [
        "## Fórmules propagació errors"
      ],
      "metadata": {
        "id": "csvPLbJZzMMu"
      }
    },
    {
      "cell_type": "markdown",
      "source": [
        "Per problemes numèrics on calculem $y=f(x)$ a partir d'una única dada $x$ tenim les següents fórmules aproximades de propagació de l'error:\n",
        "\n",
        "$$ e_a(y) \\approx f'(x)\\cdot e_a(x),$$\n",
        "\n",
        "$$ e_r(y) \\approx \\frac{f'(x)\\cdot x}{f(x)}\\,e_r(x),$$\n",
        "\n",
        "on $e_a$ indica l'error absolut i $e_r$ l'error relatiu.  D'igual forma, tenim les fórmules aproximades de propagació de l'error maximal:\n",
        "\n",
        "$$ \\varepsilon_a(y) \\approx |f'(x)|\\cdot \\varepsilon_a(x),$$\n",
        "\n",
        "$$ \\varepsilon_r(y) \\approx \\frac{|f'(x)\\cdot x|}{|f(x)|}\\,\\varepsilon_r(x).$$\n",
        "\n",
        "\n",
        "&nbsp;\n",
        "\n",
        "Per problemes numèrics més generals, en els quals hem de calcular un resultat $y=g(x_1,x_2,...,x_n)$ a partir de les dades $x_1$, $x_2$, $\\ldots$, $x_n$ tenim la generalitzacio de les fórmules aproximades de propagació de l'error:\n",
        "\n",
        "$$ e_a(y) \\approx \\sum_{i=1}^n \\frac{\\partial g}{\\partial x_i}\\,(x_1,x_2,\\ldots,x_n)\\cdot e_a(x_i),$$\n",
        "\n",
        "$$ e_r(y) \\approx \\frac{1}{g(x_1,x_2,\\ldots,x_n)}\\sum_{i=1}^n \\frac{\\partial g}{\\partial x_i}\\,(x_1,x_2,\\ldots,x_n)\\cdot x_i \\cdot e_r(x_i).$$\n",
        "\n",
        "I, d'igual manera, a partir de les fites $\\varepsilon_a(x_i)$ dels errors absoluts $e_a(x_i)$ tenim la generalització de les fórmules aproximades de propagació de l'error maximal:\n",
        "\n",
        "$$ \\varepsilon_a(y) \\approx \\sum_{i=1}^n \\left|\\frac{\\partial g}{\\partial x_i}\\,(x_1,x_2,\\ldots,x_n)\\right|\\cdot \\varepsilon_a(x_i),$$\n",
        "\n",
        "\n",
        "$$ \\varepsilon_r(y) \\approx \\frac{1}{|g(x_1,x_2,\\ldots,x_n)|}\\sum_{i=1}^n \\left|\\frac{\\partial g}{\\partial x_i}\\,(x_1,x_2,\\ldots,x_n)\\right|\\cdot |x_i| \\cdot \\varepsilon_r(x_i).$$"
      ],
      "metadata": {
        "id": "TpM_NLAzzHf3"
      }
    },
    {
      "cell_type": "markdown",
      "source": [
        "# 2. Resolució de sistemes lineals"
      ],
      "metadata": {
        "id": "tcAE_Z4HxxE0"
      }
    },
    {
      "cell_type": "markdown",
      "source": [
        "## 2.1. Substitució enrere (trig superior) + Eliminació Gaussiana + endavant (trig inferior)"
      ],
      "metadata": {
        "id": "1Ac6NiZkzqD8"
      }
    },
    {
      "cell_type": "code",
      "source": [
        "import numpy as np\n",
        "# resol Ux=b\n",
        "def triU(U, b, tol=1e-10):\n",
        "  n = len(U)\n",
        "  x = np.array(b)\n",
        "  for i in range(n-1, -1, -1):\n",
        "    if abs(U[i,i]) < tol:\n",
        "      raise ValueError(\"Element diagonal massa petit!\")\n",
        "    for j in range(i+1, n):\n",
        "      x[i] -= U[i,j]*x[j]\n",
        "    x[i] /= U[i,i]\n",
        "  return x\n",
        "\n",
        "# resol Ax=b (triangulitza A, i resol Ux=b)\n",
        "def elimGauss(A,b,tol=1e-10):\n",
        "  n = len(A)\n",
        "  newA = A.copy()\n",
        "  newB = b.copy()\n",
        "  for k in range(n-1):\n",
        "    for i in range(k+1, n):\n",
        "      if abs(A[k,k]) < tol:\n",
        "        print(k,A[k,k])\n",
        "        raise ValueError(\"Element pivot massa petit!\")\n",
        "      mik = A[i,k] / A[k,k]\n",
        "      newB[i] = b[i] - mik * b[k]\n",
        "      for j in range(k, n):\n",
        "        newA[i,j] = A[i,j] - mik * A[k,j]\n",
        "    A = newA\n",
        "    b = newB\n",
        "  return triU(A, b, tol)\n",
        "\n",
        "A = np.array([[1.0,0.5,0.33],[0.5,0.33,0.25],[0.33,0.25,0.20]])\n",
        "b = np.array([1.0,0.0,0.0])\n",
        "print(elimGauss(A,b))\n",
        "print(np.linalg.solve(A, b))\n"
      ],
      "metadata": {
        "id": "0i0WxPrbzx5K",
        "colab": {
          "base_uri": "https://localhost:8080/"
        },
        "outputId": "d91a6e06-cf6f-4bd2-ce74-637f658a364a"
      },
      "execution_count": null,
      "outputs": [
        {
          "output_type": "stream",
          "name": "stdout",
          "text": [
            "[  55.55555555555388 -277.77777777776913  255.5555555555475 ]\n",
            "[  55.55555555555482 -277.777777777774    255.55555555555208]\n"
          ]
        }
      ]
    },
    {
      "cell_type": "code",
      "source": [
        "# resol Lx=b, paràmetre opcional per reutilitzar M = L + U - Id\n",
        "def triL(L, b, onesInDiag=False, tol=1e-10):\n",
        "  n = len(L)\n",
        "  x = np.array(b)\n",
        "  for i in range(n):\n",
        "    if not onesInDiag or abs(L[i,i]) < tol:\n",
        "      raise ValueError(\"Element diagonal massa petit!\")\n",
        "    for j in range(i):\n",
        "      x[i] -= L[i,j]*x[j]\n",
        "    if not onesInDiag:\n",
        "      x[i] /= L[i,i]\n",
        "  return x"
      ],
      "metadata": {
        "id": "eErn-X0207k7"
      },
      "execution_count": null,
      "outputs": []
    },
    {
      "cell_type": "markdown",
      "source": [
        "## 2.2. Factorització LU"
      ],
      "metadata": {
        "id": "u5eLZaiX09eP"
      }
    },
    {
      "cell_type": "code",
      "source": [
        "# A -> M (= L + U - Id) (LU Vanilla)\n",
        "def factLU(A, tol = 1e-10):\n",
        "  n = len(A)\n",
        "  newA = A.copy()\n",
        "  for k in range(n-1):\n",
        "    for i in range(k+1, n):\n",
        "      if abs(A[k,k]) < tol:\n",
        "        raise ValueError(\"Element pivot massa petit!\")\n",
        "      mik = A[i,k] / A[k,k]\n",
        "      for j in range(k+1, n):\n",
        "        newA[i,j] = A[i,j] - mik * A[k,j]\n",
        "      newA[i,k] = mik\n",
        "    A = newA\n",
        "  return A\n",
        "\n",
        "A = np.array([[2.,-2,0],[100-2,2,0],[0,-1,3]])\n",
        "print(factLU(A))"
      ],
      "metadata": {
        "id": "qCXapyhi1C3i",
        "colab": {
          "base_uri": "https://localhost:8080/"
        },
        "outputId": "db0194e2-1326-48a3-b548-d908f9eac367"
      },
      "execution_count": null,
      "outputs": [
        {
          "output_type": "stream",
          "name": "stdout",
          "text": [
            "[[ 2.0e+00 -2.0e+00  0.0e+00]\n",
            " [ 4.9e+01  1.0e+02  0.0e+00]\n",
            " [ 0.0e+00 -1.0e-02  3.0e+00]]\n"
          ]
        }
      ]
    },
    {
      "cell_type": "code",
      "source": [
        "# A -> M, P amb pivotatge (M = L + U - Id)\n",
        "def factLUpivot(AA, tol = 1e-10):\n",
        "  A = AA.copy()\n",
        "  n = len(A)\n",
        "  P = np.array(range(n))\n",
        "\n",
        "  #pivotatge parcial / esglaonat: canviar les 3 linies comentades (per defecte esglaonat)\n",
        "  for k in range(n-1):\n",
        "    i1 = k\n",
        "    #s = abs(A[k,k])\n",
        "    s = abs(A[k,k])/max(abs(A[k,k:]))\n",
        "    for i in range(k+1, n):\n",
        "      #if abs(A[i,k]) > s:\n",
        "      if abs(A[i,k])/max(abs(A[i,k:])) > s:\n",
        "        i1 = i\n",
        "        #s = abs(A[i,k])\n",
        "        s = abs(A[i,k])/max(abs(A[i,k:]))\n",
        "    A[[k, i1]] = A[[i1, k]] # swap files\n",
        "    P[i1], P[k] = P[k], P[i1] # actualitzar vector permutacions\n",
        "\n",
        "    for i in range(k+1, n):\n",
        "      if abs(A[k,k]) < tol:\n",
        "        raise ValueError(\"Element pivot massa petit!\")\n",
        "      mik = A[i,k] / A[k,k]\n",
        "      for j in range(k+1, n):\n",
        "        A[i,j] = A[i,j] - mik * A[k,j]\n",
        "      A[i,k] = mik\n",
        "  return A, P"
      ],
      "metadata": {
        "id": "J47yYrUcSks5"
      },
      "execution_count": null,
      "outputs": []
    },
    {
      "cell_type": "code",
      "source": [
        "# M -> L, U (separa L i U de M)\n",
        "def separate(M):\n",
        "  n = len(M)\n",
        "  L = np.eye(n)\n",
        "  U = np.zeros([n,n])\n",
        "  for i in range(n):\n",
        "    for j in range(n):\n",
        "      if j >= i:\n",
        "        U[i,j] = M[i,j]\n",
        "      else:\n",
        "        L[i,j] = M[i,j]\n",
        "  return L, U"
      ],
      "metadata": {
        "id": "lVwUAZ17SiOG"
      },
      "execution_count": null,
      "outputs": []
    },
    {
      "cell_type": "code",
      "source": [
        "# Exemple de solució (necessita triL i triU de 2.1)\n",
        "A = np.array([[1.0,1,0], [2,0,2], [0,3,3]])\n",
        "b = np.array([3, 8, 15])\n",
        "\n",
        "M = factLU(A)\n",
        "y = triL(M, b, True)\n",
        "x = triU(M, y)\n",
        "\n",
        "print(x)\n",
        "\n",
        "# Per trobar la inversa d'una matriu\n",
        "def invMat(A):\n",
        "  n = len(A)\n",
        "  M = factLU(A)\n",
        "  invA = np.zeros([n,n])\n",
        "  for i in range(n):\n",
        "    b = np.zeros(n)\n",
        "    b[i] = 1\n",
        "    y = triL(M, b, True)\n",
        "    x = triU(M, y)\n",
        "    invA[:,i] = x\n",
        "  return invA\n",
        "\n",
        "A = np.array([\n",
        "    [2, 3, 1],\n",
        "    [4, 7, 3],\n",
        "    [6, 18, 8]\n",
        "])\n",
        "print(invMat(A))\n",
        "print(A@invMat(A), '\\n', invMat(A)@A)"
      ],
      "metadata": {
        "id": "pOqdDy-i1Kon",
        "outputId": "71c5a0ea-e0ad-4ab4-a6ef-e0d9bdccc3d9",
        "colab": {
          "base_uri": "https://localhost:8080/"
        }
      },
      "execution_count": null,
      "outputs": [
        {
          "output_type": "stream",
          "name": "stdout",
          "text": [
            "[1 2 3]\n",
            "[[-0.25  0.75 -0.25]\n",
            " [ 1.75 -1.25  0.25]\n",
            " [-3.75  2.25 -0.25]]\n",
            "[[1. 0. 0.]\n",
            " [0. 1. 0.]\n",
            " [0. 0. 1.]] \n",
            " [[1. 0. 0.]\n",
            " [0. 1. 0.]\n",
            " [0. 0. 1.]]\n"
          ]
        }
      ]
    },
    {
      "cell_type": "code",
      "source": [
        "# Igual que gauss (factLU) pero millor en casos. Retorna M = L + U - Id\n",
        "def doolittle(A):\n",
        "    n = len(A)\n",
        "    M = np.zeros((n, n))\n",
        "    for k in range(n):\n",
        "        # Elements superiors (els de U)\n",
        "        for j in range(k, n):\n",
        "            suma = sum(M[k][m] * M[m][j] for m in range(k))\n",
        "            M[k][j] = A[k][j] - suma\n",
        "        # Elements inferiors (els de L)\n",
        "        for i in range(k+1, n):\n",
        "            suma = sum(M[i][m] * M[m][k] for m in range(k))\n",
        "            M[i][k] = (A[i][k] - suma) / M[k][k]\n",
        "    return M"
      ],
      "metadata": {
        "id": "C9ZpNqEx3PBY"
      },
      "execution_count": null,
      "outputs": []
    },
    {
      "cell_type": "markdown",
      "source": [
        "## 2.3 Cholesky"
      ],
      "metadata": {
        "id": "azlXQYL192GD"
      }
    },
    {
      "cell_type": "code",
      "source": [
        "import numpy as np\n",
        "from scipy.linalg import cholesky\n",
        "np.set_printoptions(precision=15, suppress=False)\n",
        "\n",
        "# A -> L\n",
        "def Cholesky(A, tol = 1e-10):\n",
        "  n = len(A)\n",
        "  L = np.zeros([n,n])\n",
        "  for k in range(n):\n",
        "    if abs(A[k,k]) < tol:\n",
        "      raise ValueError(\"Element pivot massa petit!\")\n",
        "    L[k,k] = A[k,k]\n",
        "    for r in range(k):\n",
        "      L[k,k] -= L[k,r]**2\n",
        "    L[k,k] = L[k,k]**0.5\n",
        "    for i in range(k+1,n):\n",
        "      L[i,k] = A[i,k]\n",
        "      for r in range(k):\n",
        "        L[i,k] -= L[i,r]*L[k,r]\n",
        "      L[i,k] /= L[k,k]\n",
        "  return L\n",
        "A = np.array([[5,1,1,1,1],\n",
        "              [1,1,0,0,0],\n",
        "              [1,0,1,0,0],\n",
        "              [1,0,0,1,0],\n",
        "              [1,0,0,0,1]],)\n",
        "L = Cholesky(A)\n",
        "print(\"A = \\n \",L@np.transpose(L))\n",
        "print(\"L = \\n\",L,\"\\n\")\n",
        "print(\"\\n\")\n",
        "print(\"L = \\n\",cholesky(A,lower=True))\n"
      ],
      "metadata": {
        "id": "mvFZOohc95al",
        "colab": {
          "base_uri": "https://localhost:8080/"
        },
        "outputId": "60d4f056-c325-4106-8a4e-1d85121bd100"
      },
      "execution_count": null,
      "outputs": [
        {
          "output_type": "stream",
          "name": "stdout",
          "text": [
            "A = \n",
            "  [[ 5.000000000000001e+00  1.000000000000000e+00  1.000000000000000e+00\n",
            "   1.000000000000000e+00  1.000000000000000e+00]\n",
            " [ 1.000000000000000e+00  9.999999999999999e-01 -6.297461701680791e-18\n",
            "  -6.297461701680791e-18 -6.297461701680791e-18]\n",
            " [ 1.000000000000000e+00 -6.297461701680791e-18  9.999999999999999e-01\n",
            "   1.213217268374993e-18  1.213217268374993e-18]\n",
            " [ 1.000000000000000e+00 -6.297461701680791e-18  1.213217268374993e-18\n",
            "   1.000000000000000e+00 -1.991433824284152e-17]\n",
            " [ 1.000000000000000e+00 -6.297461701680791e-18  1.213217268374993e-18\n",
            "  -1.991433824284152e-17  1.000000000000000e+00]]\n",
            "L = \n",
            " [[ 2.23606797749979   0.                 0.\n",
            "   0.                 0.               ]\n",
            " [ 0.447213595499958  0.894427190999916  0.\n",
            "   0.                 0.               ]\n",
            " [ 0.447213595499958 -0.223606797749979  0.866025403784439\n",
            "   0.                 0.               ]\n",
            " [ 0.447213595499958 -0.223606797749979 -0.288675134594813\n",
            "   0.816496580927726  0.               ]\n",
            " [ 0.447213595499958 -0.223606797749979 -0.288675134594813\n",
            "  -0.408248290463863  0.707106781186548]] \n",
            "\n",
            "\n",
            "\n",
            "L = \n",
            " [[ 2.23606797749979   0.                 0.\n",
            "   0.                 0.               ]\n",
            " [ 0.447213595499958  0.894427190999916  0.\n",
            "   0.                 0.               ]\n",
            " [ 0.447213595499958 -0.223606797749979  0.866025403784439\n",
            "   0.                 0.               ]\n",
            " [ 0.447213595499958 -0.223606797749979 -0.288675134594813\n",
            "   0.816496580927726  0.               ]\n",
            " [ 0.447213595499958 -0.223606797749979 -0.288675134594813\n",
            "  -0.408248290463863  0.707106781186548]]\n"
          ]
        }
      ]
    },
    {
      "cell_type": "markdown",
      "source": [
        "## 2.4. QR"
      ],
      "metadata": {
        "id": "_h6UCNAnGK8a"
      }
    },
    {
      "cell_type": "code",
      "source": [
        "# A -> Q, R\n",
        "def gramSchmidt(A):\n",
        "  n = A.shape[1]\n",
        "  Q = A.copy()\n",
        "  R = np.zeros([n,n])\n",
        "  for i in range(n):\n",
        "    R[i,i] = np.linalg.norm(Q[:,i])\n",
        "    Q[:,i] = Q[:,i]/R[i,i]\n",
        "    for j in range(i+1,n):\n",
        "      R[i,j] = Q[:,i].dot(Q[:,j])\n",
        "      Q[:,j] = Q[:,j] - R[i,j]*Q[:,i]\n",
        "  return Q, R\n",
        "\n",
        "A = np.array([[1.,2],[2,2],[2,1]])\n",
        "Q, R = gramSchmidt(A)\n",
        "print(Q)\n",
        "print(R)"
      ],
      "metadata": {
        "id": "0rNcwbwUGMLx",
        "colab": {
          "base_uri": "https://localhost:8080/"
        },
        "outputId": "e8cfdb03-493c-493d-e4ef-827f62e91b70"
      },
      "execution_count": null,
      "outputs": [
        {
          "output_type": "stream",
          "name": "stdout",
          "text": [
            "[[ 0.333333333333333  0.808452083454443]\n",
            " [ 0.666666666666667  0.161690416690889]\n",
            " [ 0.666666666666667 -0.56591645841811 ]]\n",
            "[[3.                2.666666666666667]\n",
            " [0.                1.374368541872554]]\n"
          ]
        }
      ]
    },
    {
      "cell_type": "markdown",
      "source": [
        "## 2.5. Householder"
      ],
      "metadata": {
        "id": "xnvWRy7zDlmY"
      }
    },
    {
      "cell_type": "code",
      "source": [
        "# retorna R, QtB (Ax=b <=> Rx=QtB), R triangular superior (cal eliminar el sobrant i quedar-se amb les mides pertinents)\n",
        "def factHouseholder(AA, bb):\n",
        "  #Molt important vigilar que AA i bb siguin de tipus float!\n",
        "  A = AA.copy()\n",
        "  b = bb.copy()\n",
        "  m, n = np.shape(A)\n",
        "\n",
        "  for k in range(n):\n",
        "    u = A[k:, k].copy()\n",
        "    normu = np.linalg.norm(u)\n",
        "    if A[k,k] > 0:\n",
        "      u[0] += normu\n",
        "    else:\n",
        "      u[0] -= normu\n",
        "    uu = u/np.linalg.norm(u)\n",
        "\n",
        "    for j in range(k,n):\n",
        "      A[k:, j] = A[k:, j] - 2 * (uu * (uu.T @ A[k:, j]))\n",
        "    b[k:] = b[k:] - 2 * (uu * (uu.T @ b[k:]))\n",
        "\n",
        "  return A, b"
      ],
      "metadata": {
        "id": "UB6oc6TaDnaN"
      },
      "execution_count": null,
      "outputs": []
    },
    {
      "cell_type": "markdown",
      "source": [
        "# 3. Mètodes Iteratius"
      ],
      "metadata": {
        "id": "mjomiqKFxxX2"
      }
    },
    {
      "cell_type": "markdown",
      "source": [
        "## 3.1. Jacobi"
      ],
      "metadata": {
        "id": "x6Hlzq3aN5UV"
      }
    },
    {
      "cell_type": "markdown",
      "source": [
        "Convergent segur si A és estrictament diagonalment dominant (i altres casos)"
      ],
      "metadata": {
        "id": "nUKFycO_OQsF"
      }
    },
    {
      "cell_type": "code",
      "source": [
        "def norm(x):\n",
        "  return sum(i*i for i in x)**0.5\n",
        "\n",
        "def jacobi(A, b, x0, tol=1e-10, maxIter=100):\n",
        "  n = len(A)\n",
        "  x = x0.copy()\n",
        "\n",
        "  for k in range(maxIter):\n",
        "    xx = np.zeros(n)\n",
        "\n",
        "    for i in range(n):\n",
        "      suma = A[i,:]@x\n",
        "      suma -= A[i][i] * x[i]\n",
        "      xx[i] = 1/A[i][i] * (b[i] - suma)\n",
        "\n",
        "    if norm(xx - x)/norm(xx) < tol:\n",
        "      return xx, k+1\n",
        "\n",
        "    x = xx.copy()\n",
        "\n",
        "  return xx, -maxIter\n"
      ],
      "metadata": {
        "id": "YOcU0TdgN8Xp"
      },
      "execution_count": null,
      "outputs": []
    },
    {
      "cell_type": "markdown",
      "source": [
        "## 3.2. Gauss-Seidel"
      ],
      "metadata": {
        "id": "1XVYG55ePkbK"
      }
    },
    {
      "cell_type": "markdown",
      "source": [
        "Convergent segur si A és estrictament diagonalment dominant (i altres casos)"
      ],
      "metadata": {
        "id": "jynIKCSvPtMg"
      }
    },
    {
      "cell_type": "code",
      "source": [
        "def norm(x):\n",
        "  return sum(i*i for i in x)**0.5\n",
        "\n",
        "def gaussSeidel(A, b, x0, tol=1e-10, maxIter=100):\n",
        "  n = len(A)\n",
        "  x = x0.copy()\n",
        "\n",
        "  for k in range(maxIter):\n",
        "    xx = np.zeros(n)\n",
        "\n",
        "    for i in range(n):\n",
        "      for j in range(i):\n",
        "        suma += A[i][j] * xx[j]\n",
        "      for j in range(i+1, n):\n",
        "        suma += A[i][j] * x[j]\n",
        "      xx[i] = 1/A[i][i] * (b[i] - suma)\n",
        "\n",
        "    if norm(xx - x)/norm(xx) < tol:\n",
        "      return xx, k+1\n",
        "\n",
        "    x = xx.copy()\n",
        "\n",
        "  return xx, -maxIter"
      ],
      "metadata": {
        "id": "l8LBPYVePn6E"
      },
      "execution_count": null,
      "outputs": []
    },
    {
      "cell_type": "markdown",
      "source": [
        "## 3.3. ω-relaxació successiva"
      ],
      "metadata": {
        "id": "kwab1kuLP2xx"
      }
    },
    {
      "cell_type": "markdown",
      "source": [
        "ω∈(0,2) necessari perquè convergeixi el mètode."
      ],
      "metadata": {
        "id": "JH9rzw8uP_tJ"
      }
    },
    {
      "cell_type": "code",
      "source": [
        "def norm(x):\n",
        "  return sum(i*i for i in x)**0.5\n",
        "\n",
        "# w entre 0 i 2 perque convergeixi, normalment a prop de 1 (com 1.01)\n",
        "def wRelax(A, b, x0, w, tol=1e-10, maxIter=100):\n",
        "  n = len(A)\n",
        "  x = x0.copy()\n",
        "\n",
        "  for k in range(maxIter):\n",
        "    xx = np.zeros(n)\n",
        "\n",
        "    for i in range(n):\n",
        "      suma = 0\n",
        "      for j in range(i):\n",
        "        suma += A[i][j] * xx[j]\n",
        "      for j in range(i+1, n):\n",
        "        suma += A[i][j] * x[j]\n",
        "      xx[i] = (1-w)*x[i] + w/A[i][i] * (b[i] - suma)\n",
        "\n",
        "    if norm(xx - x)/norm(xx) < tol:\n",
        "      return xx, k+1\n",
        "\n",
        "    x = xx.copy()\n",
        "\n",
        "  return xx, -maxIter"
      ],
      "metadata": {
        "id": "R9BCjEXmP69R"
      },
      "execution_count": null,
      "outputs": []
    },
    {
      "cell_type": "markdown",
      "source": [
        "## 3.4. Mètode del gradient (+ conjugat)"
      ],
      "metadata": {
        "id": "Ym57WjcvRd8M"
      }
    },
    {
      "cell_type": "markdown",
      "source": [
        "La matriu ha de ser simètrica definida positiva (si no ho és, fer AtA)"
      ],
      "metadata": {
        "id": "NfM3_bBq8OCj"
      }
    },
    {
      "cell_type": "code",
      "source": [
        "# MOLT LENT! Utilitzar gradient conjugat, no aquesta\n",
        "def gradient(A, b, x0, tol=1e-10, maxIter=100):\n",
        "  x = x0.copy()\n",
        "  r = b - A@x\n",
        "\n",
        "  for k in range(maxIter):\n",
        "    alpha = r.dot(r)/r.dot(A@r) #alpha optim\n",
        "    x += alpha*r #x(k+1)=x(k)+alpha(k)*rk\n",
        "    r -= alpha*(A@r) #r(k+1)=rk-alpha(k)*A*rk\n",
        "    if np.linalg.norm(r) < tol:\n",
        "      return x, k+1\n",
        "  return x, -maxIter"
      ],
      "metadata": {
        "id": "9c_bxFzLRhOx"
      },
      "execution_count": null,
      "outputs": []
    },
    {
      "cell_type": "code",
      "source": [
        "# convergeix en <=n iteracions (?)\n",
        "def gradientC1(A, b, x0, tol=1e-10, maxIter=100):\n",
        "  x = x0.copy()\n",
        "  r = b - A@x\n",
        "\n",
        "  for k in range(maxIter):\n",
        "    alpha = r.dot(r)/r.dot(A@r) #alpha optim\n",
        "    x += alpha*r #x(k+1)=x(k)+alpha(k)*rk\n",
        "    r -= alpha*(A@r) #r(k+1)=rk-alpha(k)*A*rk\n",
        "    beta = r.dot(r)/r.dot(A@r)\n",
        "    if np.linalg.norm(r) < tol:\n",
        "      return x, k+1\n",
        "  return x, -maxIter\n",
        "\n",
        "def gradientC2(A, b, x0, tol=1e-10, maxIter=100):\n",
        "  x = x0.copy()\n",
        "  r = b - A@x\n",
        "  p = r.copy()\n",
        "  gamma = r.T@r\n",
        "  for k in range(maxIter):\n",
        "    y = A@p\n",
        "    ak = gamma / (p.T@y)\n",
        "    x += ak*p\n",
        "    r = r - ak*y\n",
        "    beta = (r.T@r) / gamma\n",
        "    gamma = r.T@r\n",
        "    p = r + beta * p\n",
        "    if np.linalg.norm(r) < tol:\n",
        "      return x, k+1\n",
        "\n",
        "  return x, -maxIter"
      ],
      "metadata": {
        "id": "3aQ4c2G2Rh0a"
      },
      "execution_count": null,
      "outputs": []
    },
    {
      "cell_type": "markdown",
      "source": [
        "## 3.5. Jacobi per EDPs"
      ],
      "metadata": {
        "id": "owmrTu-WF7pD"
      }
    },
    {
      "cell_type": "code",
      "source": [
        "def norm_max(v):\n",
        "  return max(abs(v.min()), abs(v.max()))\n",
        "\n",
        "# interval [a,b], valors de frontera ca, cb, N valors, aplicant F\n",
        "def solEstEq1D(a, b, ca, cb, N, F, maxIter, tol):\n",
        "  h = (b-a)/N\n",
        "  # generem el vector inicial de mida N+1, amb intervals uniformes\n",
        "  umean = (ca+cb)/2\n",
        "  u = umean*np.ones(N+1)\n",
        "  u[0] = ca\n",
        "  u[N] = cb\n",
        "\n",
        "  h2F = np.zeros(N+1)\n",
        "  for i in range(1,N):\n",
        "    h2F[i] = F(i*h)*(h**2)\n",
        "\n",
        "  for k in range(maxIter):\n",
        "    # apliquem la funcio\n",
        "    old_u = u.copy()\n",
        "    u[1:N] = (u[:N-1] + u[2:] + h2F[1:-1])/2\n",
        "    # comprovem tolerancia\n",
        "    if norm_max(u - old_u) < tol:\n",
        "      return u, k+1\n",
        "\n",
        "  # no s'ha assolit la tolerancia: retornar nombre d'iteracions en negatiu\n",
        "  return u, -maxIter"
      ],
      "metadata": {
        "id": "sLL-sOwSF-ff"
      },
      "execution_count": null,
      "outputs": []
    },
    {
      "cell_type": "markdown",
      "source": [
        "# 4. VAPs i VEPs"
      ],
      "metadata": {
        "id": "I-cD32Hmfz9R"
      }
    },
    {
      "cell_type": "markdown",
      "source": [
        "## 4.1. Mètode de la Potència"
      ],
      "metadata": {
        "id": "ApCtVVSuf3ud"
      }
    },
    {
      "cell_type": "code",
      "source": [
        "#retorna el VAP mes gran en valor absolut de A. (z0 = np.random.rand(n))\n",
        "def pot(A, z0, tol=1e-10, maxIter=100):\n",
        "  rho = 0\n",
        "  z = z0.copy()\n",
        "  for k in range(maxIter):\n",
        "    Az = A@z\n",
        "    z = Az/np.linalg.norm(Az)\n",
        "    rho_new = z.T@A@z\n",
        "\n",
        "    if abs(rho_new - rho) < tol:\n",
        "      return rho_new, z, k+1\n",
        "    rho = rho_new\n",
        "\n",
        "  return rho, z, -maxIter\n",
        "\n",
        "A = np.array([[1,-3,3],[-1,1,1],[-1,-3,5]])\n",
        "z = np.array([1,2,3])\n",
        "print(pot(A,z))"
      ],
      "metadata": {
        "id": "SWm4mF_jf566",
        "colab": {
          "base_uri": "https://localhost:8080/"
        },
        "outputId": "6a4ba126-3d48-4df1-cc3d-091efae74571"
      },
      "execution_count": null,
      "outputs": [
        {
          "output_type": "stream",
          "name": "stdout",
          "text": [
            "(3.9999999999417946, array([7.07106781e-01, 4.11589929e-11, 7.07106781e-01]), 35)\n"
          ]
        }
      ]
    },
    {
      "cell_type": "code",
      "source": [
        "#necessita la majoria dels codis de 2.\n",
        "def solve(A, b):\n",
        "  M = factLU(A)\n",
        "  y = triL(M, b, True)\n",
        "  x = triU(M, y)\n",
        "  return x\n",
        "\n",
        "#retorna el VAP mes petit en valor absolut de A. (z0 = np.random.rand(n))\n",
        "def potinv(A, z0, tol=1e-10, maxIter=100):\n",
        "  rho = 0\n",
        "  z = z0.copy()\n",
        "  for k in range(maxIter):\n",
        "    y = z / np.linalg.norm(z)\n",
        "    z = solve(A, y)\n",
        "    rho_new = y.T@z\n",
        "\n",
        "    if abs(rho_new - rho) < tol:\n",
        "      return 1/rho_new, z, k+1\n",
        "\n",
        "    rho = rho_new\n",
        "\n",
        "  return 1/rho, z, -maxIter\n",
        "\n",
        "A = np.array([[1,-3,3],[-1,1,1],[-1,-3,5]])\n",
        "z = np.array([1,2,3])\n",
        "print(potinv(A,z))"
      ],
      "metadata": {
        "id": "WQXeJaXzgArn",
        "colab": {
          "base_uri": "https://localhost:8080/",
          "height": 321
        },
        "outputId": "733ee33d-c24f-4264-df97-fd5f5d8b4e45"
      },
      "execution_count": null,
      "outputs": [
        {
          "output_type": "error",
          "ename": "NameError",
          "evalue": "name 'factLU' is not defined",
          "traceback": [
            "\u001b[0;31m---------------------------------------------------------------------------\u001b[0m",
            "\u001b[0;31mNameError\u001b[0m                                 Traceback (most recent call last)",
            "\u001b[0;32m<ipython-input-11-23d74fc71ff2>\u001b[0m in \u001b[0;36m<cell line: 26>\u001b[0;34m()\u001b[0m\n\u001b[1;32m     24\u001b[0m \u001b[0mA\u001b[0m \u001b[0;34m=\u001b[0m \u001b[0mnp\u001b[0m\u001b[0;34m.\u001b[0m\u001b[0marray\u001b[0m\u001b[0;34m(\u001b[0m\u001b[0;34m[\u001b[0m\u001b[0;34m[\u001b[0m\u001b[0;36m1\u001b[0m\u001b[0;34m,\u001b[0m\u001b[0;34m-\u001b[0m\u001b[0;36m3\u001b[0m\u001b[0;34m,\u001b[0m\u001b[0;36m3\u001b[0m\u001b[0;34m]\u001b[0m\u001b[0;34m,\u001b[0m\u001b[0;34m[\u001b[0m\u001b[0;34m-\u001b[0m\u001b[0;36m1\u001b[0m\u001b[0;34m,\u001b[0m\u001b[0;36m1\u001b[0m\u001b[0;34m,\u001b[0m\u001b[0;36m1\u001b[0m\u001b[0;34m]\u001b[0m\u001b[0;34m,\u001b[0m\u001b[0;34m[\u001b[0m\u001b[0;34m-\u001b[0m\u001b[0;36m1\u001b[0m\u001b[0;34m,\u001b[0m\u001b[0;34m-\u001b[0m\u001b[0;36m3\u001b[0m\u001b[0;34m,\u001b[0m\u001b[0;36m5\u001b[0m\u001b[0;34m]\u001b[0m\u001b[0;34m]\u001b[0m\u001b[0;34m)\u001b[0m\u001b[0;34m\u001b[0m\u001b[0;34m\u001b[0m\u001b[0m\n\u001b[1;32m     25\u001b[0m \u001b[0mz\u001b[0m \u001b[0;34m=\u001b[0m \u001b[0mnp\u001b[0m\u001b[0;34m.\u001b[0m\u001b[0marray\u001b[0m\u001b[0;34m(\u001b[0m\u001b[0;34m[\u001b[0m\u001b[0;36m1\u001b[0m\u001b[0;34m,\u001b[0m\u001b[0;36m2\u001b[0m\u001b[0;34m,\u001b[0m\u001b[0;36m3\u001b[0m\u001b[0;34m]\u001b[0m\u001b[0;34m)\u001b[0m\u001b[0;34m\u001b[0m\u001b[0;34m\u001b[0m\u001b[0m\n\u001b[0;32m---> 26\u001b[0;31m \u001b[0mprint\u001b[0m\u001b[0;34m(\u001b[0m\u001b[0mpotinv\u001b[0m\u001b[0;34m(\u001b[0m\u001b[0mA\u001b[0m\u001b[0;34m,\u001b[0m\u001b[0mz\u001b[0m\u001b[0;34m)\u001b[0m\u001b[0;34m)\u001b[0m\u001b[0;34m\u001b[0m\u001b[0;34m\u001b[0m\u001b[0m\n\u001b[0m",
            "\u001b[0;32m<ipython-input-11-23d74fc71ff2>\u001b[0m in \u001b[0;36mpotinv\u001b[0;34m(A, z0, tol, maxIter)\u001b[0m\n\u001b[1;32m     12\u001b[0m   \u001b[0;32mfor\u001b[0m \u001b[0mk\u001b[0m \u001b[0;32min\u001b[0m \u001b[0mrange\u001b[0m\u001b[0;34m(\u001b[0m\u001b[0mmaxIter\u001b[0m\u001b[0;34m)\u001b[0m\u001b[0;34m:\u001b[0m\u001b[0;34m\u001b[0m\u001b[0;34m\u001b[0m\u001b[0m\n\u001b[1;32m     13\u001b[0m     \u001b[0my\u001b[0m \u001b[0;34m=\u001b[0m \u001b[0mz\u001b[0m \u001b[0;34m/\u001b[0m \u001b[0mnp\u001b[0m\u001b[0;34m.\u001b[0m\u001b[0mlinalg\u001b[0m\u001b[0;34m.\u001b[0m\u001b[0mnorm\u001b[0m\u001b[0;34m(\u001b[0m\u001b[0mz\u001b[0m\u001b[0;34m)\u001b[0m\u001b[0;34m\u001b[0m\u001b[0;34m\u001b[0m\u001b[0m\n\u001b[0;32m---> 14\u001b[0;31m     \u001b[0mz\u001b[0m \u001b[0;34m=\u001b[0m \u001b[0msolve\u001b[0m\u001b[0;34m(\u001b[0m\u001b[0mA\u001b[0m\u001b[0;34m,\u001b[0m \u001b[0my\u001b[0m\u001b[0;34m)\u001b[0m\u001b[0;34m\u001b[0m\u001b[0;34m\u001b[0m\u001b[0m\n\u001b[0m\u001b[1;32m     15\u001b[0m     \u001b[0mrho_new\u001b[0m \u001b[0;34m=\u001b[0m \u001b[0my\u001b[0m\u001b[0;34m.\u001b[0m\u001b[0mT\u001b[0m\u001b[0;34m@\u001b[0m\u001b[0mz\u001b[0m\u001b[0;34m\u001b[0m\u001b[0;34m\u001b[0m\u001b[0m\n\u001b[1;32m     16\u001b[0m \u001b[0;34m\u001b[0m\u001b[0m\n",
            "\u001b[0;32m<ipython-input-11-23d74fc71ff2>\u001b[0m in \u001b[0;36msolve\u001b[0;34m(A, b)\u001b[0m\n\u001b[1;32m      1\u001b[0m \u001b[0;31m#necessita la majoria dels codis de 2.\u001b[0m\u001b[0;34m\u001b[0m\u001b[0;34m\u001b[0m\u001b[0m\n\u001b[1;32m      2\u001b[0m \u001b[0;32mdef\u001b[0m \u001b[0msolve\u001b[0m\u001b[0;34m(\u001b[0m\u001b[0mA\u001b[0m\u001b[0;34m,\u001b[0m \u001b[0mb\u001b[0m\u001b[0;34m)\u001b[0m\u001b[0;34m:\u001b[0m\u001b[0;34m\u001b[0m\u001b[0;34m\u001b[0m\u001b[0m\n\u001b[0;32m----> 3\u001b[0;31m   \u001b[0mM\u001b[0m \u001b[0;34m=\u001b[0m \u001b[0mfactLU\u001b[0m\u001b[0;34m(\u001b[0m\u001b[0mA\u001b[0m\u001b[0;34m)\u001b[0m\u001b[0;34m\u001b[0m\u001b[0;34m\u001b[0m\u001b[0m\n\u001b[0m\u001b[1;32m      4\u001b[0m   \u001b[0my\u001b[0m \u001b[0;34m=\u001b[0m \u001b[0mtriL\u001b[0m\u001b[0;34m(\u001b[0m\u001b[0mM\u001b[0m\u001b[0;34m,\u001b[0m \u001b[0mb\u001b[0m\u001b[0;34m,\u001b[0m \u001b[0;32mTrue\u001b[0m\u001b[0;34m)\u001b[0m\u001b[0;34m\u001b[0m\u001b[0;34m\u001b[0m\u001b[0m\n\u001b[1;32m      5\u001b[0m   \u001b[0mx\u001b[0m \u001b[0;34m=\u001b[0m \u001b[0mtriU\u001b[0m\u001b[0;34m(\u001b[0m\u001b[0mM\u001b[0m\u001b[0;34m,\u001b[0m \u001b[0my\u001b[0m\u001b[0;34m)\u001b[0m\u001b[0;34m\u001b[0m\u001b[0;34m\u001b[0m\u001b[0m\n",
            "\u001b[0;31mNameError\u001b[0m: name 'factLU' is not defined"
          ]
        }
      ]
    },
    {
      "cell_type": "code",
      "source": [
        "#retorna el VAP mes gran en valor absolut de A-qId. (z0 = np.random.rand(n))\n",
        "def potdesp(A, z0, q, tol=1e-10, maxIter=100):\n",
        "  M = A.copy() - q*np.eye(len(A))\n",
        "  rho, z, iter = pot(M, z0, tol=tol, maxIter=maxIter)\n",
        "  return rho + q , z0, iter\n",
        "\n",
        "#retorna el VAP mes petit en valor absolut de A-qId. (z0 = np.random.rand(n))\n",
        "def potinvdesp(A, z0, q, tol=1e-10, maxIter=100):\n",
        "  M = A.copy() - q*np.eye(len(A))\n",
        "  rho, z, iter = potinv(M, z0, tol=tol, maxIter=maxIter)\n",
        "  return rho + q , z0, iter\n",
        "\n",
        "# recomanable trobar el vap més gran i més petit,\n",
        "# després el que estigui més a prop de (vapN+vap0)/2 = q,\n",
        "# i anar iterant amb q de \"punts mitjos\" entre VAPs que tenen VAPs\n",
        "# entremig encara (fer cheats i mirar els VAPs de veritat abans)\n"
      ],
      "metadata": {
        "id": "TjWABYpmiTXN"
      },
      "execution_count": null,
      "outputs": []
    },
    {
      "cell_type": "markdown",
      "source": [
        "## 4.2. Mètode de Deflació"
      ],
      "metadata": {
        "id": "e9-DOhs0j64R"
      }
    },
    {
      "cell_type": "code",
      "source": [
        "import numpy as np\n",
        "# necessita potRayleigh i potDespl de 4.1.\n",
        "# retorna array de VAPs + array de VEPs\n",
        "def deflacio(A, tol=1e-10, maxIter=10000):\n",
        "  n = len(A)\n",
        "  if n == 1:\n",
        "    return [A[0,0]], np.array(1).reshape(1,1)\n",
        "  z0 = np.random.rand(n) # z0 random en comptes de tot uns...\n",
        "  rho, z, iter = pot(A, z0, tol=tol, maxIter=maxIter)\n",
        "  if iter == -maxIter: # si no convergeix, provar q=1\n",
        "    rho, z, iter = potdesp(A, z0, 1, tol=tol, maxIter=maxIter)\n",
        "\n",
        "  u = z.copy()\n",
        "  if u[0] >= 0:\n",
        "    u[0] += 1.\n",
        "  else:\n",
        "    u[0] -= 1.\n",
        "  u = np.reshape(u,(n,1))\n",
        "  H = np.eye(n) - 2*u.dot(u.T)/(u.T.dot(u))\n",
        "  A1 = H@A@H\n",
        "  lamb = A1[0,0]\n",
        "  b = A1[0,1:]\n",
        "\n",
        "  vaps1, veps1 = deflacio(A1[1:,1:], tol=tol, maxIter=maxIter)\n",
        "\n",
        "  vaps = np.zeros(n)\n",
        "  veps = np.zeros([n,n])\n",
        "  vaps[0] = lamb # hauria de ser = rho?\n",
        "  veps[0] = z\n",
        "\n",
        "  # converteix tots els veps de A1 \"petita\" a veps de A\n",
        "  for i in range(n-1):\n",
        "    alpha = b.dot(veps1[i])/(vaps1[i] - lamb)\n",
        "    w2 = alpha * np.ones(n)\n",
        "    w2[1:] = veps1[i]\n",
        "    vaps[i+1] = vaps1[i]\n",
        "    veps[i+1] = H@w2\n",
        "\n",
        "  return vaps, veps\n",
        "\n",
        "A = np.array([[1.,2,3],[2,0,4],[3,4,1]])\n",
        "# comparacio numpy vs funcio:\n",
        "vaps, veps = np.linalg.eig(A)\n",
        "ind = np.argsort(vaps)\n",
        "vaps1,veps1 = deflacio(A)\n",
        "ind1 = np.argsort(vaps1)\n",
        "for i in range(len(A)):\n",
        "    print(f\"VAP {i+1}: {vaps[ind[i]]} vs {vaps1[ind1[i]]}\")\n",
        "    print(\"VEP numpy   :\", veps[:,ind[i]])\n",
        "    print(\"VEP deflacio:\", veps1[ind1[i]]/np.linalg.norm(veps1[ind1[i]]),\"\\n\")\n",
        "    #print(\"vep_i @ vepdefla_i= +1 o -1:\",veps1[ind1[i]]@veps[:,ind[i]]/np.linalg.norm(veps1[:,ind1[i]]),\"\\n\") # si dona ±1 esta be\n"
      ],
      "metadata": {
        "id": "Djd8LhQlj_8w"
      },
      "execution_count": null,
      "outputs": []
    },
    {
      "cell_type": "markdown",
      "source": [
        "## 4.3. Mètode de Jacobi"
      ],
      "metadata": {
        "id": "2D9gN9Tp2I25"
      }
    },
    {
      "cell_type": "code",
      "source": [
        "# torna array de VAPs + array de VEPs (+ num rotacions/iteracions)\n",
        "# la matriu A de input HA DE SER SIMETRICA\n",
        "def jacobi(AA, tol=1e-10, maxRot=100):\n",
        "  A = AA.copy()\n",
        "  n = len(A)\n",
        "  Q = np.eye(n)\n",
        "  for k in range(maxRot+1):\n",
        "    AnoDiag = A.copy()\n",
        "    np.fill_diagonal(AnoDiag, 0)\n",
        "    argmax = np.argmax(np.abs(AnoDiag))\n",
        "    p, q = argmax//n, argmax%n\n",
        "\n",
        "    if abs(A[p,q]) < tol:\n",
        "      return np.diag(A), Q, k+1\n",
        "\n",
        "    eta = (A[p,p] - A[q,q])/A[p,q]/2\n",
        "    t = -eta + np.sign(eta) * (eta**2+1)**0.5\n",
        "    if eta == 0:\n",
        "      t = 1\n",
        "    c = 1/(1 + t**2)**0.5\n",
        "    s = t*c\n",
        "\n",
        "    Anew = A.copy()\n",
        "\n",
        "    Anew[p,:] = A[p,:]*c + A[q,:]*s\n",
        "    Anew[q,:] = -A[p,:]*s + A[q,:]*c\n",
        "    Anew[:,p] = A[:,p]*c + A[:,q]*s\n",
        "    Anew[:,q] = -A[:,p]*s + A[:,q]*c\n",
        "\n",
        "    Anew[p,p] = A[p,p]*c**2 + 2*A[p,q]*c*s + A[q,q]*s**2\n",
        "    Anew[p,q] = Anew[q,p] = 0\n",
        "    Anew[q,q] = A[p,p]*s**2 - 2*A[p,q]*c*s + A[q,q]*c**2\n",
        "\n",
        "    A = Anew\n",
        "\n",
        "    Qi = np.eye(n)\n",
        "    Qi[p,p] = Qi[q,q] = c\n",
        "    Qi[p,q] = -s\n",
        "    Qi[q,p] = s\n",
        "    Q = Q@Qi\n",
        "  return np.diag(A), Q, -maxRot\n",
        "\n",
        "A = np.array([[2.0,-1.0,0.0],[-1.0,2.0,-1.0],[0.0,-1.0,2.0]])\n",
        "# comparacio numpy vs funcio:\n",
        "vaps, veps = np.linalg.eig(A)\n",
        "ind = np.argsort(vaps)\n",
        "vaps1,veps1,rot = jacobi(A)\n",
        "ind1 = np.argsort(vaps1)\n",
        "for i in range(len(A)):\n",
        "    print(f\"VAP {i+1}: {vaps[ind[i]]} vs {vaps1[ind1[i]]}\")\n",
        "    print(\"VEP numpy   :\", veps[:,ind[i]])\n",
        "    print(\"VEP jacobi:\", veps1[:,ind1[i]]/np.linalg.norm(veps1[:,ind1[i]]),\"\\n\")\n",
        "    #print(\"vep_i @ vepdefla_i= +1 o -1:\",veps1[ind1[i]]@veps[:,ind[i]]/np.linalg.norm(veps1[:,ind1[i]]),\"\\n\") # si dona ±1 esta be"
      ],
      "metadata": {
        "id": "kjS7iYhQ2LA8"
      },
      "execution_count": null,
      "outputs": []
    },
    {
      "cell_type": "markdown",
      "source": [
        "## 4.a. Discs de Gerschgorin"
      ],
      "metadata": {
        "id": "r4nzXjO64OnK"
      }
    },
    {
      "cell_type": "code",
      "source": [
        "## Fem la intersecció entre la unió de discs per files i la unió de discs per columnes\n",
        "#  per saber on estan localitzats els valors propis:\n",
        "import numpy as np\n",
        "import matplotlib.pyplot as plt\n",
        "\n",
        "# Aquesta funció ens retorna els centres i radis dels discos\n",
        "# de Gerschgorin per files.\n",
        "def discsGerschgorin(A):\n",
        "    n, m = A.shape\n",
        "    if n != m:\n",
        "        raise Exception(\"Error! La matriu no és quadrada\")\n",
        "    c = np.diag(A) # Calculem els centres\n",
        "    r = np.linalg.norm(A, axis =1, ord=1) - np.absolute(c) # Calculem els radis\n",
        "    return c, r\n",
        "\n",
        "## Procediment general:\n",
        "# Matriu A \"semi\"-random:\n",
        "A = A = np.array([[0,0,2,0,3],\n",
        "              [3,2,2,2,3],\n",
        "              [1,1,3,1,1],\n",
        "              [1,1,2,3,2],\n",
        "              [3,3,1,0,1]],dtype=np.float64)\n",
        "\n",
        "# Calculem els vaps i els veps:\n",
        "vaps, veps = np.linalg.eig(A)\n",
        "# Disc de Gerschgorin per files i columnes\n",
        "c,r = discsGerschgorin(A)\n",
        "c2,r2 = discsGerschgorin(A.T)\n",
        "# Centres i radis:\n",
        "#print(c,r)\n",
        "n = len(A)\n",
        "## Dibuixem:\n",
        "fig, ax = plt.subplots()\n",
        "ax.set_aspect('equal')  # Fem l'escala dels eixos iguals\n",
        "ax.grid(True) # Afegim el grid\n",
        "# Anem dibuixant cada disc (per files):\n",
        "for i in range(n):\n",
        "    circle = plt.Circle((np.real(c[i]), np.imag(c[i])), r[i], color='blue', fill=True, alpha=0.3)\n",
        "    ax.add_patch(circle)\n",
        "# Anem dibuixant cada disc (per columnes):\n",
        "for i in range(n):\n",
        "    circle = plt.Circle((np.real(c2[i]), np.imag(c2[i])), r2[i], color='orange', fill=True, alpha=0.3)\n",
        "    ax.add_patch(circle)\n",
        "# Dibuixem els VAPS:\n",
        "plt.scatter(np.real(vaps),np.imag(vaps),color=\"black\", s=5)\n",
        "# Limits dels eixos (CANVIAR PARAMETRES SI NO ES VEU EL GRAFIC SENCER!):\n",
        "plt.xlim(-20, 20)\n",
        "plt.ylim(-20, 20)\n",
        "# Labels dels eixos:\n",
        "plt.xlabel('Part real')\n",
        "plt.ylabel('Part imaginària')\n",
        "plt.show()"
      ],
      "metadata": {
        "id": "6QUAvjCN4Ui4"
      },
      "execution_count": null,
      "outputs": []
    },
    {
      "cell_type": "markdown",
      "source": [
        "## 4.b. Exemple busca de VAPs amb desplaçaments"
      ],
      "metadata": {
        "id": "o_9Qh3P6-rHA"
      }
    },
    {
      "cell_type": "code",
      "source": [
        "# (els desplaçaments i inversos es fan sabent mes o menys on son els VAPs, utilitzant els discos)\n",
        "# Matriu de l'exercici\n",
        "A = np.array([[7,-1,1,1,-1],[1,-5,0,0,-1],[0,0,14,-1,1],[-1,-1,0,-12,1],[0,1,1,0,0]],dtype = np.float64)\n",
        "vaps, veps = np.linalg.eig(A)\n",
        "print(\"Els VAPS són:\",vaps)\n",
        "\n",
        "z0 = np.random.rand(5)\n",
        "vap1, vep1, iter1 = pot(A,z0,tol=1.e-12,maxIter = 300)\n",
        "print(\"Vap 1:\",vap1,\"(en\",iter1,\"iteracions)\")\n",
        "\n",
        "# Podem millorar la convergència desplaçant el VAP per millorar la convergència\n",
        "z0 = np.random.rand(5)\n",
        "vap1, vep1, iter1 = potdesp(A,z0,-2.5,tol=1.e-12,maxIter = 300)\n",
        "print(\"Vap 1:\",vap1,\"(en\",iter1,\"iteracions)\")\n",
        "\n",
        "z0 = np.random.rand(5)\n",
        "vap2, vep2, iter2 = potinvdesp(A,z0,6,tol=1.e-12,maxIter = 300)\n",
        "print(\"Vap 2:\",vap2,\"(en\",iter2,\"iteracions)\")\n",
        "\n",
        "\n",
        "z0 = np.random.rand(5)\n",
        "vap3, vep3, iter3 = potdesp(A,z0,5,tol=1.e-12,maxIter = 300)\n",
        "print(\"Vap 3:\",vap3,\"(en\",iter3,\"iteracions)\")\n",
        "\n",
        "\n",
        "z0 = np.random.rand(5)\n",
        "vap4, vep4, iter4 = potinvdesp(A,z0,-4,tol=1.e-12,maxIter = 300)\n",
        "print(\"Vap 4:\",vap4,\"(en\",iter4,\"iteracions)\")\n",
        "\n",
        "\n",
        "z0 = np.random.rand(5)\n",
        "vap5, vep5, iter5 = potinv(A,z0,maxIter = 300)\n",
        "print(\"Vap 5:\",vap5,\"(en\",iter5,\"iteracions)\")\n",
        "\n",
        "\n",
        "# Construixo la matriu que conté els VEPS i la seva inversa:\n",
        "V = np.array([vep1,vep2,vep3,vep4,vep5]).T\n",
        "invV = np.linalg.inv(V)\n",
        "# Matriu diagonal amb els VAPs:\n",
        "D = np.diag([vap1,vap2,vap3,vap4,vap5])\n",
        "\n",
        "print(\"||A-VDV^-1|| =\",np.linalg.norm(V@D@invV-A))"
      ],
      "metadata": {
        "id": "bRfE3bTa-xVk"
      },
      "execution_count": null,
      "outputs": []
    }
  ]
}